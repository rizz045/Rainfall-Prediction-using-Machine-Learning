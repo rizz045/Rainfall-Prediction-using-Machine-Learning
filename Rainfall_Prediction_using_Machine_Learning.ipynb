{
  "nbformat": 4,
  "nbformat_minor": 0,
  "metadata": {
    "colab": {
      "provenance": []
    },
    "kernelspec": {
      "name": "python3",
      "display_name": "Python 3"
    },
    "language_info": {
      "name": "python"
    }
  },
  "cells": [
    {
      "cell_type": "markdown",
      "source": [
        "**Column Details:**\n",
        "- **day**: The day of the month.\n",
        "- **pressure**: Atmospheric pressure in hPa.\n",
        "- **maxtemp**: Maximum recorded temperature in °C.\n",
        "- **temparature**: Average temperature of the day in °C.\n",
        "- **mintemp**: Minimum recorded temperature in °C.\n",
        "- **dewpoint**: Dew point temperature in °C.\n",
        "- **humidity**: Relative humidity percentage.\n",
        "- **cloud**: Cloud cover percentage.\n",
        "- **rainfall**: Indicates whether rainfall occurred (yes/no).\n",
        "- **sunshine**: Total sunshine duration in hours.\n",
        "- **winddirection**: Wind direction in degrees.\n",
        "- **windspeed**: Wind speed in km/h.\n"
      ],
      "metadata": {
        "id": "hWFUCPQpR3Zr"
      }
    },
    {
      "cell_type": "code",
      "execution_count": 2,
      "metadata": {
        "id": "lIVFofZ_Q7hk"
      },
      "outputs": [],
      "source": [
        "import numpy as np\n",
        "import pandas as pd\n",
        "import matplotlib.pyplot as plt\n",
        "import seaborn as sns\n",
        "\n",
        "from sklearn.model_selection import train_test_split\n",
        "from sklearn.preprocessing import StandardScaler\n",
        "from sklearn import metrics\n",
        "from sklearn.svm import SVC\n",
        "from sklearn.linear_model import LogisticRegression\n",
        "from imblearn.over_sampling import RandomOverSampler\n",
        "from xgboost import XGBClassifier\n",
        "\n",
        "import warnings\n",
        "warnings.filterwarnings('ignore')"
      ]
    },
    {
      "cell_type": "code",
      "source": [
        "df = pd.read_csv(\"/content/Rainfall.csv\")\n",
        "df.head()"
      ],
      "metadata": {
        "colab": {
          "base_uri": "https://localhost:8080/",
          "height": 226
        },
        "id": "DSbbHFApRx2y",
        "outputId": "b83f2a76-41cd-4530-dcfb-556b3400f316"
      },
      "execution_count": 3,
      "outputs": [
        {
          "output_type": "execute_result",
          "data": {
            "text/plain": [
              "   day  pressure   maxtemp  temparature  mintemp  dewpoint  humidity   cloud   \\\n",
              "0    1     1025.9     19.9         18.3     16.8      13.1         72      49   \n",
              "1    2     1022.0     21.7         18.9     17.2      15.6         81      83   \n",
              "2    3     1019.7     20.3         19.3     18.0      18.4         95      91   \n",
              "3    4     1018.9     22.3         20.6     19.1      18.8         90      88   \n",
              "4    5     1015.9     21.3         20.7     20.2      19.9         95      81   \n",
              "\n",
              "  rainfall  sunshine           winddirection  windspeed  \n",
              "0      yes       9.3                    80.0       26.3  \n",
              "1      yes       0.6                    50.0       15.3  \n",
              "2      yes       0.0                    40.0       14.2  \n",
              "3      yes       1.0                    50.0       16.9  \n",
              "4      yes       0.0                    40.0       13.7  "
            ],
            "text/html": [
              "\n",
              "  <div id=\"df-dcc86d77-c236-4135-b417-dd9f59f1e58c\" class=\"colab-df-container\">\n",
              "    <div>\n",
              "<style scoped>\n",
              "    .dataframe tbody tr th:only-of-type {\n",
              "        vertical-align: middle;\n",
              "    }\n",
              "\n",
              "    .dataframe tbody tr th {\n",
              "        vertical-align: top;\n",
              "    }\n",
              "\n",
              "    .dataframe thead th {\n",
              "        text-align: right;\n",
              "    }\n",
              "</style>\n",
              "<table border=\"1\" class=\"dataframe\">\n",
              "  <thead>\n",
              "    <tr style=\"text-align: right;\">\n",
              "      <th></th>\n",
              "      <th>day</th>\n",
              "      <th>pressure</th>\n",
              "      <th>maxtemp</th>\n",
              "      <th>temparature</th>\n",
              "      <th>mintemp</th>\n",
              "      <th>dewpoint</th>\n",
              "      <th>humidity</th>\n",
              "      <th>cloud</th>\n",
              "      <th>rainfall</th>\n",
              "      <th>sunshine</th>\n",
              "      <th>winddirection</th>\n",
              "      <th>windspeed</th>\n",
              "    </tr>\n",
              "  </thead>\n",
              "  <tbody>\n",
              "    <tr>\n",
              "      <th>0</th>\n",
              "      <td>1</td>\n",
              "      <td>1025.9</td>\n",
              "      <td>19.9</td>\n",
              "      <td>18.3</td>\n",
              "      <td>16.8</td>\n",
              "      <td>13.1</td>\n",
              "      <td>72</td>\n",
              "      <td>49</td>\n",
              "      <td>yes</td>\n",
              "      <td>9.3</td>\n",
              "      <td>80.0</td>\n",
              "      <td>26.3</td>\n",
              "    </tr>\n",
              "    <tr>\n",
              "      <th>1</th>\n",
              "      <td>2</td>\n",
              "      <td>1022.0</td>\n",
              "      <td>21.7</td>\n",
              "      <td>18.9</td>\n",
              "      <td>17.2</td>\n",
              "      <td>15.6</td>\n",
              "      <td>81</td>\n",
              "      <td>83</td>\n",
              "      <td>yes</td>\n",
              "      <td>0.6</td>\n",
              "      <td>50.0</td>\n",
              "      <td>15.3</td>\n",
              "    </tr>\n",
              "    <tr>\n",
              "      <th>2</th>\n",
              "      <td>3</td>\n",
              "      <td>1019.7</td>\n",
              "      <td>20.3</td>\n",
              "      <td>19.3</td>\n",
              "      <td>18.0</td>\n",
              "      <td>18.4</td>\n",
              "      <td>95</td>\n",
              "      <td>91</td>\n",
              "      <td>yes</td>\n",
              "      <td>0.0</td>\n",
              "      <td>40.0</td>\n",
              "      <td>14.2</td>\n",
              "    </tr>\n",
              "    <tr>\n",
              "      <th>3</th>\n",
              "      <td>4</td>\n",
              "      <td>1018.9</td>\n",
              "      <td>22.3</td>\n",
              "      <td>20.6</td>\n",
              "      <td>19.1</td>\n",
              "      <td>18.8</td>\n",
              "      <td>90</td>\n",
              "      <td>88</td>\n",
              "      <td>yes</td>\n",
              "      <td>1.0</td>\n",
              "      <td>50.0</td>\n",
              "      <td>16.9</td>\n",
              "    </tr>\n",
              "    <tr>\n",
              "      <th>4</th>\n",
              "      <td>5</td>\n",
              "      <td>1015.9</td>\n",
              "      <td>21.3</td>\n",
              "      <td>20.7</td>\n",
              "      <td>20.2</td>\n",
              "      <td>19.9</td>\n",
              "      <td>95</td>\n",
              "      <td>81</td>\n",
              "      <td>yes</td>\n",
              "      <td>0.0</td>\n",
              "      <td>40.0</td>\n",
              "      <td>13.7</td>\n",
              "    </tr>\n",
              "  </tbody>\n",
              "</table>\n",
              "</div>\n",
              "    <div class=\"colab-df-buttons\">\n",
              "\n",
              "  <div class=\"colab-df-container\">\n",
              "    <button class=\"colab-df-convert\" onclick=\"convertToInteractive('df-dcc86d77-c236-4135-b417-dd9f59f1e58c')\"\n",
              "            title=\"Convert this dataframe to an interactive table.\"\n",
              "            style=\"display:none;\">\n",
              "\n",
              "  <svg xmlns=\"http://www.w3.org/2000/svg\" height=\"24px\" viewBox=\"0 -960 960 960\">\n",
              "    <path d=\"M120-120v-720h720v720H120Zm60-500h600v-160H180v160Zm220 220h160v-160H400v160Zm0 220h160v-160H400v160ZM180-400h160v-160H180v160Zm440 0h160v-160H620v160ZM180-180h160v-160H180v160Zm440 0h160v-160H620v160Z\"/>\n",
              "  </svg>\n",
              "    </button>\n",
              "\n",
              "  <style>\n",
              "    .colab-df-container {\n",
              "      display:flex;\n",
              "      gap: 12px;\n",
              "    }\n",
              "\n",
              "    .colab-df-convert {\n",
              "      background-color: #E8F0FE;\n",
              "      border: none;\n",
              "      border-radius: 50%;\n",
              "      cursor: pointer;\n",
              "      display: none;\n",
              "      fill: #1967D2;\n",
              "      height: 32px;\n",
              "      padding: 0 0 0 0;\n",
              "      width: 32px;\n",
              "    }\n",
              "\n",
              "    .colab-df-convert:hover {\n",
              "      background-color: #E2EBFA;\n",
              "      box-shadow: 0px 1px 2px rgba(60, 64, 67, 0.3), 0px 1px 3px 1px rgba(60, 64, 67, 0.15);\n",
              "      fill: #174EA6;\n",
              "    }\n",
              "\n",
              "    .colab-df-buttons div {\n",
              "      margin-bottom: 4px;\n",
              "    }\n",
              "\n",
              "    [theme=dark] .colab-df-convert {\n",
              "      background-color: #3B4455;\n",
              "      fill: #D2E3FC;\n",
              "    }\n",
              "\n",
              "    [theme=dark] .colab-df-convert:hover {\n",
              "      background-color: #434B5C;\n",
              "      box-shadow: 0px 1px 3px 1px rgba(0, 0, 0, 0.15);\n",
              "      filter: drop-shadow(0px 1px 2px rgba(0, 0, 0, 0.3));\n",
              "      fill: #FFFFFF;\n",
              "    }\n",
              "  </style>\n",
              "\n",
              "    <script>\n",
              "      const buttonEl =\n",
              "        document.querySelector('#df-dcc86d77-c236-4135-b417-dd9f59f1e58c button.colab-df-convert');\n",
              "      buttonEl.style.display =\n",
              "        google.colab.kernel.accessAllowed ? 'block' : 'none';\n",
              "\n",
              "      async function convertToInteractive(key) {\n",
              "        const element = document.querySelector('#df-dcc86d77-c236-4135-b417-dd9f59f1e58c');\n",
              "        const dataTable =\n",
              "          await google.colab.kernel.invokeFunction('convertToInteractive',\n",
              "                                                    [key], {});\n",
              "        if (!dataTable) return;\n",
              "\n",
              "        const docLinkHtml = 'Like what you see? Visit the ' +\n",
              "          '<a target=\"_blank\" href=https://colab.research.google.com/notebooks/data_table.ipynb>data table notebook</a>'\n",
              "          + ' to learn more about interactive tables.';\n",
              "        element.innerHTML = '';\n",
              "        dataTable['output_type'] = 'display_data';\n",
              "        await google.colab.output.renderOutput(dataTable, element);\n",
              "        const docLink = document.createElement('div');\n",
              "        docLink.innerHTML = docLinkHtml;\n",
              "        element.appendChild(docLink);\n",
              "      }\n",
              "    </script>\n",
              "  </div>\n",
              "\n",
              "\n",
              "<div id=\"df-726df4f9-eeb3-4345-b0d7-f72457135808\">\n",
              "  <button class=\"colab-df-quickchart\" onclick=\"quickchart('df-726df4f9-eeb3-4345-b0d7-f72457135808')\"\n",
              "            title=\"Suggest charts\"\n",
              "            style=\"display:none;\">\n",
              "\n",
              "<svg xmlns=\"http://www.w3.org/2000/svg\" height=\"24px\"viewBox=\"0 0 24 24\"\n",
              "     width=\"24px\">\n",
              "    <g>\n",
              "        <path d=\"M19 3H5c-1.1 0-2 .9-2 2v14c0 1.1.9 2 2 2h14c1.1 0 2-.9 2-2V5c0-1.1-.9-2-2-2zM9 17H7v-7h2v7zm4 0h-2V7h2v10zm4 0h-2v-4h2v4z\"/>\n",
              "    </g>\n",
              "</svg>\n",
              "  </button>\n",
              "\n",
              "<style>\n",
              "  .colab-df-quickchart {\n",
              "      --bg-color: #E8F0FE;\n",
              "      --fill-color: #1967D2;\n",
              "      --hover-bg-color: #E2EBFA;\n",
              "      --hover-fill-color: #174EA6;\n",
              "      --disabled-fill-color: #AAA;\n",
              "      --disabled-bg-color: #DDD;\n",
              "  }\n",
              "\n",
              "  [theme=dark] .colab-df-quickchart {\n",
              "      --bg-color: #3B4455;\n",
              "      --fill-color: #D2E3FC;\n",
              "      --hover-bg-color: #434B5C;\n",
              "      --hover-fill-color: #FFFFFF;\n",
              "      --disabled-bg-color: #3B4455;\n",
              "      --disabled-fill-color: #666;\n",
              "  }\n",
              "\n",
              "  .colab-df-quickchart {\n",
              "    background-color: var(--bg-color);\n",
              "    border: none;\n",
              "    border-radius: 50%;\n",
              "    cursor: pointer;\n",
              "    display: none;\n",
              "    fill: var(--fill-color);\n",
              "    height: 32px;\n",
              "    padding: 0;\n",
              "    width: 32px;\n",
              "  }\n",
              "\n",
              "  .colab-df-quickchart:hover {\n",
              "    background-color: var(--hover-bg-color);\n",
              "    box-shadow: 0 1px 2px rgba(60, 64, 67, 0.3), 0 1px 3px 1px rgba(60, 64, 67, 0.15);\n",
              "    fill: var(--button-hover-fill-color);\n",
              "  }\n",
              "\n",
              "  .colab-df-quickchart-complete:disabled,\n",
              "  .colab-df-quickchart-complete:disabled:hover {\n",
              "    background-color: var(--disabled-bg-color);\n",
              "    fill: var(--disabled-fill-color);\n",
              "    box-shadow: none;\n",
              "  }\n",
              "\n",
              "  .colab-df-spinner {\n",
              "    border: 2px solid var(--fill-color);\n",
              "    border-color: transparent;\n",
              "    border-bottom-color: var(--fill-color);\n",
              "    animation:\n",
              "      spin 1s steps(1) infinite;\n",
              "  }\n",
              "\n",
              "  @keyframes spin {\n",
              "    0% {\n",
              "      border-color: transparent;\n",
              "      border-bottom-color: var(--fill-color);\n",
              "      border-left-color: var(--fill-color);\n",
              "    }\n",
              "    20% {\n",
              "      border-color: transparent;\n",
              "      border-left-color: var(--fill-color);\n",
              "      border-top-color: var(--fill-color);\n",
              "    }\n",
              "    30% {\n",
              "      border-color: transparent;\n",
              "      border-left-color: var(--fill-color);\n",
              "      border-top-color: var(--fill-color);\n",
              "      border-right-color: var(--fill-color);\n",
              "    }\n",
              "    40% {\n",
              "      border-color: transparent;\n",
              "      border-right-color: var(--fill-color);\n",
              "      border-top-color: var(--fill-color);\n",
              "    }\n",
              "    60% {\n",
              "      border-color: transparent;\n",
              "      border-right-color: var(--fill-color);\n",
              "    }\n",
              "    80% {\n",
              "      border-color: transparent;\n",
              "      border-right-color: var(--fill-color);\n",
              "      border-bottom-color: var(--fill-color);\n",
              "    }\n",
              "    90% {\n",
              "      border-color: transparent;\n",
              "      border-bottom-color: var(--fill-color);\n",
              "    }\n",
              "  }\n",
              "</style>\n",
              "\n",
              "  <script>\n",
              "    async function quickchart(key) {\n",
              "      const quickchartButtonEl =\n",
              "        document.querySelector('#' + key + ' button');\n",
              "      quickchartButtonEl.disabled = true;  // To prevent multiple clicks.\n",
              "      quickchartButtonEl.classList.add('colab-df-spinner');\n",
              "      try {\n",
              "        const charts = await google.colab.kernel.invokeFunction(\n",
              "            'suggestCharts', [key], {});\n",
              "      } catch (error) {\n",
              "        console.error('Error during call to suggestCharts:', error);\n",
              "      }\n",
              "      quickchartButtonEl.classList.remove('colab-df-spinner');\n",
              "      quickchartButtonEl.classList.add('colab-df-quickchart-complete');\n",
              "    }\n",
              "    (() => {\n",
              "      let quickchartButtonEl =\n",
              "        document.querySelector('#df-726df4f9-eeb3-4345-b0d7-f72457135808 button');\n",
              "      quickchartButtonEl.style.display =\n",
              "        google.colab.kernel.accessAllowed ? 'block' : 'none';\n",
              "    })();\n",
              "  </script>\n",
              "</div>\n",
              "\n",
              "    </div>\n",
              "  </div>\n"
            ],
            "application/vnd.google.colaboratory.intrinsic+json": {
              "type": "dataframe",
              "variable_name": "df",
              "summary": "{\n  \"name\": \"df\",\n  \"rows\": 366,\n  \"fields\": [\n    {\n      \"column\": \"day\",\n      \"properties\": {\n        \"dtype\": \"number\",\n        \"std\": 8,\n        \"min\": 1,\n        \"max\": 31,\n        \"num_unique_values\": 31,\n        \"samples\": [\n          28,\n          16,\n          24\n        ],\n        \"semantic_type\": \"\",\n        \"description\": \"\"\n      }\n    },\n    {\n      \"column\": \"pressure \",\n      \"properties\": {\n        \"dtype\": \"number\",\n        \"std\": 6.4147764098954525,\n        \"min\": 998.5,\n        \"max\": 1034.6,\n        \"num_unique_values\": 188,\n        \"samples\": [\n          1016.2,\n          1016.8,\n          1019.6\n        ],\n        \"semantic_type\": \"\",\n        \"description\": \"\"\n      }\n    },\n    {\n      \"column\": \"maxtemp\",\n      \"properties\": {\n        \"dtype\": \"number\",\n        \"std\": 5.978342653428496,\n        \"min\": 7.1,\n        \"max\": 36.3,\n        \"num_unique_values\": 174,\n        \"samples\": [\n          22.1,\n          34.7,\n          28.3\n        ],\n        \"semantic_type\": \"\",\n        \"description\": \"\"\n      }\n    },\n    {\n      \"column\": \"temparature\",\n      \"properties\": {\n        \"dtype\": \"number\",\n        \"std\": 5.632812934538627,\n        \"min\": 4.9,\n        \"max\": 32.4,\n        \"num_unique_values\": 158,\n        \"samples\": [\n          28.6,\n          20.8,\n          32.4\n        ],\n        \"semantic_type\": \"\",\n        \"description\": \"\"\n      }\n    },\n    {\n      \"column\": \"mintemp\",\n      \"properties\": {\n        \"dtype\": \"number\",\n        \"std\": 5.5941527866250516,\n        \"min\": 3.1,\n        \"max\": 30.0,\n        \"num_unique_values\": 157,\n        \"samples\": [\n          24.9,\n          14.0,\n          21.1\n        ],\n        \"semantic_type\": \"\",\n        \"description\": \"\"\n      }\n    },\n    {\n      \"column\": \"dewpoint\",\n      \"properties\": {\n        \"dtype\": \"number\",\n        \"std\": 5.99702124326736,\n        \"min\": -0.4,\n        \"max\": 26.7,\n        \"num_unique_values\": 158,\n        \"samples\": [\n          16.6,\n          13.3,\n          21.7\n        ],\n        \"semantic_type\": \"\",\n        \"description\": \"\"\n      }\n    },\n    {\n      \"column\": \"humidity \",\n      \"properties\": {\n        \"dtype\": \"number\",\n        \"std\": 10,\n        \"min\": 36,\n        \"max\": 98,\n        \"num_unique_values\": 49,\n        \"samples\": [\n          61,\n          56,\n          49\n        ],\n        \"semantic_type\": \"\",\n        \"description\": \"\"\n      }\n    },\n    {\n      \"column\": \"cloud \",\n      \"properties\": {\n        \"dtype\": \"number\",\n        \"std\": 21,\n        \"min\": 0,\n        \"max\": 100,\n        \"num_unique_values\": 79,\n        \"samples\": [\n          76,\n          49,\n          94\n        ],\n        \"semantic_type\": \"\",\n        \"description\": \"\"\n      }\n    },\n    {\n      \"column\": \"rainfall\",\n      \"properties\": {\n        \"dtype\": \"category\",\n        \"num_unique_values\": 2,\n        \"samples\": [\n          \"no\",\n          \"yes\"\n        ],\n        \"semantic_type\": \"\",\n        \"description\": \"\"\n      }\n    },\n    {\n      \"column\": \"sunshine\",\n      \"properties\": {\n        \"dtype\": \"number\",\n        \"std\": 3.9343977512568156,\n        \"min\": 0.0,\n        \"max\": 12.1,\n        \"num_unique_values\": 104,\n        \"samples\": [\n          0.5,\n          4.5\n        ],\n        \"semantic_type\": \"\",\n        \"description\": \"\"\n      }\n    },\n    {\n      \"column\": \"         winddirection\",\n      \"properties\": {\n        \"dtype\": \"number\",\n        \"std\": 81.72372436011264,\n        \"min\": 10.0,\n        \"max\": 350.0,\n        \"num_unique_values\": 31,\n        \"samples\": [\n          290.0,\n          180.0\n        ],\n        \"semantic_type\": \"\",\n        \"description\": \"\"\n      }\n    },\n    {\n      \"column\": \"windspeed\",\n      \"properties\": {\n        \"dtype\": \"number\",\n        \"std\": 10.069711777815353,\n        \"min\": 4.4,\n        \"max\": 59.5,\n        \"num_unique_values\": 223,\n        \"samples\": [\n          37.7,\n          19.6\n        ],\n        \"semantic_type\": \"\",\n        \"description\": \"\"\n      }\n    }\n  ]\n}"
            }
          },
          "metadata": {},
          "execution_count": 3
        }
      ]
    },
    {
      "cell_type": "code",
      "source": [
        "df.shape"
      ],
      "metadata": {
        "colab": {
          "base_uri": "https://localhost:8080/"
        },
        "id": "bRq3IhR0Sr5U",
        "outputId": "da20788d-392f-429d-ec00-f2e8bc30d287"
      },
      "execution_count": 4,
      "outputs": [
        {
          "output_type": "execute_result",
          "data": {
            "text/plain": [
              "(366, 12)"
            ]
          },
          "metadata": {},
          "execution_count": 4
        }
      ]
    },
    {
      "cell_type": "code",
      "source": [
        "df.columns"
      ],
      "metadata": {
        "colab": {
          "base_uri": "https://localhost:8080/"
        },
        "id": "A-OtnjKhTWRY",
        "outputId": "7db8ae9d-aee7-4cfb-c5db-8a8df7b8f9a8"
      },
      "execution_count": 5,
      "outputs": [
        {
          "output_type": "execute_result",
          "data": {
            "text/plain": [
              "Index(['day', 'pressure ', 'maxtemp', 'temparature', 'mintemp', 'dewpoint',\n",
              "       'humidity ', 'cloud ', 'rainfall', 'sunshine', '         winddirection',\n",
              "       'windspeed'],\n",
              "      dtype='object')"
            ]
          },
          "metadata": {},
          "execution_count": 5
        }
      ]
    },
    {
      "cell_type": "markdown",
      "source": [
        "* winddirection attribute has some unnecessary space let's fix it."
      ],
      "metadata": {
        "id": "EBp_8xvtTYfQ"
      }
    },
    {
      "cell_type": "code",
      "source": [
        "df.rename(columns={'         winddirection': 'winddirection'}, inplace=True)"
      ],
      "metadata": {
        "id": "uxNekkTyTkFY"
      },
      "execution_count": 6,
      "outputs": []
    },
    {
      "cell_type": "code",
      "source": [
        "df.info()"
      ],
      "metadata": {
        "colab": {
          "base_uri": "https://localhost:8080/"
        },
        "id": "OR51fmarSunj",
        "outputId": "5e8f7b40-4983-4ee5-e0a7-f2017fe30219"
      },
      "execution_count": 7,
      "outputs": [
        {
          "output_type": "stream",
          "name": "stdout",
          "text": [
            "<class 'pandas.core.frame.DataFrame'>\n",
            "RangeIndex: 366 entries, 0 to 365\n",
            "Data columns (total 12 columns):\n",
            " #   Column         Non-Null Count  Dtype  \n",
            "---  ------         --------------  -----  \n",
            " 0   day            366 non-null    int64  \n",
            " 1   pressure       366 non-null    float64\n",
            " 2   maxtemp        366 non-null    float64\n",
            " 3   temparature    366 non-null    float64\n",
            " 4   mintemp        366 non-null    float64\n",
            " 5   dewpoint       366 non-null    float64\n",
            " 6   humidity       366 non-null    int64  \n",
            " 7   cloud          366 non-null    int64  \n",
            " 8   rainfall       366 non-null    object \n",
            " 9   sunshine       366 non-null    float64\n",
            " 10  winddirection  365 non-null    float64\n",
            " 11  windspeed      365 non-null    float64\n",
            "dtypes: float64(8), int64(3), object(1)\n",
            "memory usage: 34.4+ KB\n"
          ]
        }
      ]
    },
    {
      "cell_type": "code",
      "source": [
        "df.describe().T"
      ],
      "metadata": {
        "colab": {
          "base_uri": "https://localhost:8080/",
          "height": 414
        },
        "id": "MspoDdH8TJtb",
        "outputId": "b2cb80b8-6f83-4860-ede1-7b12ce99acdb"
      },
      "execution_count": 8,
      "outputs": [
        {
          "output_type": "execute_result",
          "data": {
            "text/plain": [
              "               count         mean        std    min       25%      50%  \\\n",
              "day            366.0    15.756831   8.823592    1.0     8.000    16.00   \n",
              "pressure       366.0  1013.742623   6.414776  998.5  1008.500  1013.00   \n",
              "maxtemp        366.0    26.191257   5.978343    7.1    21.200    27.75   \n",
              "temparature    366.0    23.747268   5.632813    4.9    18.825    25.45   \n",
              "mintemp        366.0    21.894536   5.594153    3.1    17.125    23.70   \n",
              "dewpoint       366.0    19.989071   5.997021   -0.4    16.125    21.95   \n",
              "humidity       366.0    80.177596  10.062470   36.0    75.000    80.50   \n",
              "cloud          366.0    71.128415  21.798012    0.0    58.000    80.00   \n",
              "sunshine       366.0     4.419399   3.934398    0.0     0.500     3.50   \n",
              "winddirection  365.0   101.506849  81.723724   10.0    40.000    70.00   \n",
              "windspeed      365.0    21.536986  10.069712    4.4    13.700    20.50   \n",
              "\n",
              "                    75%     max  \n",
              "day              23.000    31.0  \n",
              "pressure       1018.100  1034.6  \n",
              "maxtemp          31.200    36.3  \n",
              "temparature      28.600    32.4  \n",
              "mintemp          26.575    30.0  \n",
              "dewpoint         25.000    26.7  \n",
              "humidity         87.000    98.0  \n",
              "cloud            88.000   100.0  \n",
              "sunshine          8.200    12.1  \n",
              "winddirection   190.000   350.0  \n",
              "windspeed        27.900    59.5  "
            ],
            "text/html": [
              "\n",
              "  <div id=\"df-a923b15f-ba9d-4373-a69b-35cec3da616d\" class=\"colab-df-container\">\n",
              "    <div>\n",
              "<style scoped>\n",
              "    .dataframe tbody tr th:only-of-type {\n",
              "        vertical-align: middle;\n",
              "    }\n",
              "\n",
              "    .dataframe tbody tr th {\n",
              "        vertical-align: top;\n",
              "    }\n",
              "\n",
              "    .dataframe thead th {\n",
              "        text-align: right;\n",
              "    }\n",
              "</style>\n",
              "<table border=\"1\" class=\"dataframe\">\n",
              "  <thead>\n",
              "    <tr style=\"text-align: right;\">\n",
              "      <th></th>\n",
              "      <th>count</th>\n",
              "      <th>mean</th>\n",
              "      <th>std</th>\n",
              "      <th>min</th>\n",
              "      <th>25%</th>\n",
              "      <th>50%</th>\n",
              "      <th>75%</th>\n",
              "      <th>max</th>\n",
              "    </tr>\n",
              "  </thead>\n",
              "  <tbody>\n",
              "    <tr>\n",
              "      <th>day</th>\n",
              "      <td>366.0</td>\n",
              "      <td>15.756831</td>\n",
              "      <td>8.823592</td>\n",
              "      <td>1.0</td>\n",
              "      <td>8.000</td>\n",
              "      <td>16.00</td>\n",
              "      <td>23.000</td>\n",
              "      <td>31.0</td>\n",
              "    </tr>\n",
              "    <tr>\n",
              "      <th>pressure</th>\n",
              "      <td>366.0</td>\n",
              "      <td>1013.742623</td>\n",
              "      <td>6.414776</td>\n",
              "      <td>998.5</td>\n",
              "      <td>1008.500</td>\n",
              "      <td>1013.00</td>\n",
              "      <td>1018.100</td>\n",
              "      <td>1034.6</td>\n",
              "    </tr>\n",
              "    <tr>\n",
              "      <th>maxtemp</th>\n",
              "      <td>366.0</td>\n",
              "      <td>26.191257</td>\n",
              "      <td>5.978343</td>\n",
              "      <td>7.1</td>\n",
              "      <td>21.200</td>\n",
              "      <td>27.75</td>\n",
              "      <td>31.200</td>\n",
              "      <td>36.3</td>\n",
              "    </tr>\n",
              "    <tr>\n",
              "      <th>temparature</th>\n",
              "      <td>366.0</td>\n",
              "      <td>23.747268</td>\n",
              "      <td>5.632813</td>\n",
              "      <td>4.9</td>\n",
              "      <td>18.825</td>\n",
              "      <td>25.45</td>\n",
              "      <td>28.600</td>\n",
              "      <td>32.4</td>\n",
              "    </tr>\n",
              "    <tr>\n",
              "      <th>mintemp</th>\n",
              "      <td>366.0</td>\n",
              "      <td>21.894536</td>\n",
              "      <td>5.594153</td>\n",
              "      <td>3.1</td>\n",
              "      <td>17.125</td>\n",
              "      <td>23.70</td>\n",
              "      <td>26.575</td>\n",
              "      <td>30.0</td>\n",
              "    </tr>\n",
              "    <tr>\n",
              "      <th>dewpoint</th>\n",
              "      <td>366.0</td>\n",
              "      <td>19.989071</td>\n",
              "      <td>5.997021</td>\n",
              "      <td>-0.4</td>\n",
              "      <td>16.125</td>\n",
              "      <td>21.95</td>\n",
              "      <td>25.000</td>\n",
              "      <td>26.7</td>\n",
              "    </tr>\n",
              "    <tr>\n",
              "      <th>humidity</th>\n",
              "      <td>366.0</td>\n",
              "      <td>80.177596</td>\n",
              "      <td>10.062470</td>\n",
              "      <td>36.0</td>\n",
              "      <td>75.000</td>\n",
              "      <td>80.50</td>\n",
              "      <td>87.000</td>\n",
              "      <td>98.0</td>\n",
              "    </tr>\n",
              "    <tr>\n",
              "      <th>cloud</th>\n",
              "      <td>366.0</td>\n",
              "      <td>71.128415</td>\n",
              "      <td>21.798012</td>\n",
              "      <td>0.0</td>\n",
              "      <td>58.000</td>\n",
              "      <td>80.00</td>\n",
              "      <td>88.000</td>\n",
              "      <td>100.0</td>\n",
              "    </tr>\n",
              "    <tr>\n",
              "      <th>sunshine</th>\n",
              "      <td>366.0</td>\n",
              "      <td>4.419399</td>\n",
              "      <td>3.934398</td>\n",
              "      <td>0.0</td>\n",
              "      <td>0.500</td>\n",
              "      <td>3.50</td>\n",
              "      <td>8.200</td>\n",
              "      <td>12.1</td>\n",
              "    </tr>\n",
              "    <tr>\n",
              "      <th>winddirection</th>\n",
              "      <td>365.0</td>\n",
              "      <td>101.506849</td>\n",
              "      <td>81.723724</td>\n",
              "      <td>10.0</td>\n",
              "      <td>40.000</td>\n",
              "      <td>70.00</td>\n",
              "      <td>190.000</td>\n",
              "      <td>350.0</td>\n",
              "    </tr>\n",
              "    <tr>\n",
              "      <th>windspeed</th>\n",
              "      <td>365.0</td>\n",
              "      <td>21.536986</td>\n",
              "      <td>10.069712</td>\n",
              "      <td>4.4</td>\n",
              "      <td>13.700</td>\n",
              "      <td>20.50</td>\n",
              "      <td>27.900</td>\n",
              "      <td>59.5</td>\n",
              "    </tr>\n",
              "  </tbody>\n",
              "</table>\n",
              "</div>\n",
              "    <div class=\"colab-df-buttons\">\n",
              "\n",
              "  <div class=\"colab-df-container\">\n",
              "    <button class=\"colab-df-convert\" onclick=\"convertToInteractive('df-a923b15f-ba9d-4373-a69b-35cec3da616d')\"\n",
              "            title=\"Convert this dataframe to an interactive table.\"\n",
              "            style=\"display:none;\">\n",
              "\n",
              "  <svg xmlns=\"http://www.w3.org/2000/svg\" height=\"24px\" viewBox=\"0 -960 960 960\">\n",
              "    <path d=\"M120-120v-720h720v720H120Zm60-500h600v-160H180v160Zm220 220h160v-160H400v160Zm0 220h160v-160H400v160ZM180-400h160v-160H180v160Zm440 0h160v-160H620v160ZM180-180h160v-160H180v160Zm440 0h160v-160H620v160Z\"/>\n",
              "  </svg>\n",
              "    </button>\n",
              "\n",
              "  <style>\n",
              "    .colab-df-container {\n",
              "      display:flex;\n",
              "      gap: 12px;\n",
              "    }\n",
              "\n",
              "    .colab-df-convert {\n",
              "      background-color: #E8F0FE;\n",
              "      border: none;\n",
              "      border-radius: 50%;\n",
              "      cursor: pointer;\n",
              "      display: none;\n",
              "      fill: #1967D2;\n",
              "      height: 32px;\n",
              "      padding: 0 0 0 0;\n",
              "      width: 32px;\n",
              "    }\n",
              "\n",
              "    .colab-df-convert:hover {\n",
              "      background-color: #E2EBFA;\n",
              "      box-shadow: 0px 1px 2px rgba(60, 64, 67, 0.3), 0px 1px 3px 1px rgba(60, 64, 67, 0.15);\n",
              "      fill: #174EA6;\n",
              "    }\n",
              "\n",
              "    .colab-df-buttons div {\n",
              "      margin-bottom: 4px;\n",
              "    }\n",
              "\n",
              "    [theme=dark] .colab-df-convert {\n",
              "      background-color: #3B4455;\n",
              "      fill: #D2E3FC;\n",
              "    }\n",
              "\n",
              "    [theme=dark] .colab-df-convert:hover {\n",
              "      background-color: #434B5C;\n",
              "      box-shadow: 0px 1px 3px 1px rgba(0, 0, 0, 0.15);\n",
              "      filter: drop-shadow(0px 1px 2px rgba(0, 0, 0, 0.3));\n",
              "      fill: #FFFFFF;\n",
              "    }\n",
              "  </style>\n",
              "\n",
              "    <script>\n",
              "      const buttonEl =\n",
              "        document.querySelector('#df-a923b15f-ba9d-4373-a69b-35cec3da616d button.colab-df-convert');\n",
              "      buttonEl.style.display =\n",
              "        google.colab.kernel.accessAllowed ? 'block' : 'none';\n",
              "\n",
              "      async function convertToInteractive(key) {\n",
              "        const element = document.querySelector('#df-a923b15f-ba9d-4373-a69b-35cec3da616d');\n",
              "        const dataTable =\n",
              "          await google.colab.kernel.invokeFunction('convertToInteractive',\n",
              "                                                    [key], {});\n",
              "        if (!dataTable) return;\n",
              "\n",
              "        const docLinkHtml = 'Like what you see? Visit the ' +\n",
              "          '<a target=\"_blank\" href=https://colab.research.google.com/notebooks/data_table.ipynb>data table notebook</a>'\n",
              "          + ' to learn more about interactive tables.';\n",
              "        element.innerHTML = '';\n",
              "        dataTable['output_type'] = 'display_data';\n",
              "        await google.colab.output.renderOutput(dataTable, element);\n",
              "        const docLink = document.createElement('div');\n",
              "        docLink.innerHTML = docLinkHtml;\n",
              "        element.appendChild(docLink);\n",
              "      }\n",
              "    </script>\n",
              "  </div>\n",
              "\n",
              "\n",
              "<div id=\"df-96738cad-32a8-46b1-8f08-3da506ff362a\">\n",
              "  <button class=\"colab-df-quickchart\" onclick=\"quickchart('df-96738cad-32a8-46b1-8f08-3da506ff362a')\"\n",
              "            title=\"Suggest charts\"\n",
              "            style=\"display:none;\">\n",
              "\n",
              "<svg xmlns=\"http://www.w3.org/2000/svg\" height=\"24px\"viewBox=\"0 0 24 24\"\n",
              "     width=\"24px\">\n",
              "    <g>\n",
              "        <path d=\"M19 3H5c-1.1 0-2 .9-2 2v14c0 1.1.9 2 2 2h14c1.1 0 2-.9 2-2V5c0-1.1-.9-2-2-2zM9 17H7v-7h2v7zm4 0h-2V7h2v10zm4 0h-2v-4h2v4z\"/>\n",
              "    </g>\n",
              "</svg>\n",
              "  </button>\n",
              "\n",
              "<style>\n",
              "  .colab-df-quickchart {\n",
              "      --bg-color: #E8F0FE;\n",
              "      --fill-color: #1967D2;\n",
              "      --hover-bg-color: #E2EBFA;\n",
              "      --hover-fill-color: #174EA6;\n",
              "      --disabled-fill-color: #AAA;\n",
              "      --disabled-bg-color: #DDD;\n",
              "  }\n",
              "\n",
              "  [theme=dark] .colab-df-quickchart {\n",
              "      --bg-color: #3B4455;\n",
              "      --fill-color: #D2E3FC;\n",
              "      --hover-bg-color: #434B5C;\n",
              "      --hover-fill-color: #FFFFFF;\n",
              "      --disabled-bg-color: #3B4455;\n",
              "      --disabled-fill-color: #666;\n",
              "  }\n",
              "\n",
              "  .colab-df-quickchart {\n",
              "    background-color: var(--bg-color);\n",
              "    border: none;\n",
              "    border-radius: 50%;\n",
              "    cursor: pointer;\n",
              "    display: none;\n",
              "    fill: var(--fill-color);\n",
              "    height: 32px;\n",
              "    padding: 0;\n",
              "    width: 32px;\n",
              "  }\n",
              "\n",
              "  .colab-df-quickchart:hover {\n",
              "    background-color: var(--hover-bg-color);\n",
              "    box-shadow: 0 1px 2px rgba(60, 64, 67, 0.3), 0 1px 3px 1px rgba(60, 64, 67, 0.15);\n",
              "    fill: var(--button-hover-fill-color);\n",
              "  }\n",
              "\n",
              "  .colab-df-quickchart-complete:disabled,\n",
              "  .colab-df-quickchart-complete:disabled:hover {\n",
              "    background-color: var(--disabled-bg-color);\n",
              "    fill: var(--disabled-fill-color);\n",
              "    box-shadow: none;\n",
              "  }\n",
              "\n",
              "  .colab-df-spinner {\n",
              "    border: 2px solid var(--fill-color);\n",
              "    border-color: transparent;\n",
              "    border-bottom-color: var(--fill-color);\n",
              "    animation:\n",
              "      spin 1s steps(1) infinite;\n",
              "  }\n",
              "\n",
              "  @keyframes spin {\n",
              "    0% {\n",
              "      border-color: transparent;\n",
              "      border-bottom-color: var(--fill-color);\n",
              "      border-left-color: var(--fill-color);\n",
              "    }\n",
              "    20% {\n",
              "      border-color: transparent;\n",
              "      border-left-color: var(--fill-color);\n",
              "      border-top-color: var(--fill-color);\n",
              "    }\n",
              "    30% {\n",
              "      border-color: transparent;\n",
              "      border-left-color: var(--fill-color);\n",
              "      border-top-color: var(--fill-color);\n",
              "      border-right-color: var(--fill-color);\n",
              "    }\n",
              "    40% {\n",
              "      border-color: transparent;\n",
              "      border-right-color: var(--fill-color);\n",
              "      border-top-color: var(--fill-color);\n",
              "    }\n",
              "    60% {\n",
              "      border-color: transparent;\n",
              "      border-right-color: var(--fill-color);\n",
              "    }\n",
              "    80% {\n",
              "      border-color: transparent;\n",
              "      border-right-color: var(--fill-color);\n",
              "      border-bottom-color: var(--fill-color);\n",
              "    }\n",
              "    90% {\n",
              "      border-color: transparent;\n",
              "      border-bottom-color: var(--fill-color);\n",
              "    }\n",
              "  }\n",
              "</style>\n",
              "\n",
              "  <script>\n",
              "    async function quickchart(key) {\n",
              "      const quickchartButtonEl =\n",
              "        document.querySelector('#' + key + ' button');\n",
              "      quickchartButtonEl.disabled = true;  // To prevent multiple clicks.\n",
              "      quickchartButtonEl.classList.add('colab-df-spinner');\n",
              "      try {\n",
              "        const charts = await google.colab.kernel.invokeFunction(\n",
              "            'suggestCharts', [key], {});\n",
              "      } catch (error) {\n",
              "        console.error('Error during call to suggestCharts:', error);\n",
              "      }\n",
              "      quickchartButtonEl.classList.remove('colab-df-spinner');\n",
              "      quickchartButtonEl.classList.add('colab-df-quickchart-complete');\n",
              "    }\n",
              "    (() => {\n",
              "      let quickchartButtonEl =\n",
              "        document.querySelector('#df-96738cad-32a8-46b1-8f08-3da506ff362a button');\n",
              "      quickchartButtonEl.style.display =\n",
              "        google.colab.kernel.accessAllowed ? 'block' : 'none';\n",
              "    })();\n",
              "  </script>\n",
              "</div>\n",
              "\n",
              "    </div>\n",
              "  </div>\n"
            ],
            "application/vnd.google.colaboratory.intrinsic+json": {
              "type": "dataframe",
              "summary": "{\n  \"name\": \"df\",\n  \"rows\": 11,\n  \"fields\": [\n    {\n      \"column\": \"count\",\n      \"properties\": {\n        \"dtype\": \"number\",\n        \"std\": 0.40451991747794525,\n        \"min\": 365.0,\n        \"max\": 366.0,\n        \"num_unique_values\": 2,\n        \"samples\": [\n          365.0,\n          366.0\n        ],\n        \"semantic_type\": \"\",\n        \"description\": \"\"\n      }\n    },\n    {\n      \"column\": \"mean\",\n      \"properties\": {\n        \"dtype\": \"number\",\n        \"std\": 295.6553743631382,\n        \"min\": 4.419398907103825,\n        \"max\": 1013.7426229508199,\n        \"num_unique_values\": 11,\n        \"samples\": [\n          19.989071038251367,\n          15.756830601092895\n        ],\n        \"semantic_type\": \"\",\n        \"description\": \"\"\n      }\n    },\n    {\n      \"column\": \"std\",\n      \"properties\": {\n        \"dtype\": \"number\",\n        \"std\": 22.62701650381187,\n        \"min\": 3.9343977512568156,\n        \"max\": 81.72372436011264,\n        \"num_unique_values\": 11,\n        \"samples\": [\n          5.99702124326736,\n          8.823591963189891\n        ],\n        \"semantic_type\": \"\",\n        \"description\": \"\"\n      }\n    },\n    {\n      \"column\": \"min\",\n      \"properties\": {\n        \"dtype\": \"number\",\n        \"std\": 299.2438598139712,\n        \"min\": -0.4,\n        \"max\": 998.5,\n        \"num_unique_values\": 10,\n        \"samples\": [\n          10.0,\n          998.5\n        ],\n        \"semantic_type\": \"\",\n        \"description\": \"\"\n      }\n    },\n    {\n      \"column\": \"25%\",\n      \"properties\": {\n        \"dtype\": \"number\",\n        \"std\": 296.821159194311,\n        \"min\": 0.5,\n        \"max\": 1008.5,\n        \"num_unique_values\": 11,\n        \"samples\": [\n          16.125,\n          8.0\n        ],\n        \"semantic_type\": \"\",\n        \"description\": \"\"\n      }\n    },\n    {\n      \"column\": \"50%\",\n      \"properties\": {\n        \"dtype\": \"number\",\n        \"std\": 295.5303023995401,\n        \"min\": 3.5,\n        \"max\": 1013.0,\n        \"num_unique_values\": 11,\n        \"samples\": [\n          21.95,\n          16.0\n        ],\n        \"semantic_type\": \"\",\n        \"description\": \"\"\n      }\n    },\n    {\n      \"column\": \"75%\",\n      \"properties\": {\n        \"dtype\": \"number\",\n        \"std\": 295.4691418474879,\n        \"min\": 8.2,\n        \"max\": 1018.1,\n        \"num_unique_values\": 11,\n        \"samples\": [\n          25.0,\n          23.0\n        ],\n        \"semantic_type\": \"\",\n        \"description\": \"\"\n      }\n    },\n    {\n      \"column\": \"max\",\n      \"properties\": {\n        \"dtype\": \"number\",\n        \"std\": 303.8263319727242,\n        \"min\": 12.1,\n        \"max\": 1034.6,\n        \"num_unique_values\": 11,\n        \"samples\": [\n          26.7,\n          31.0\n        ],\n        \"semantic_type\": \"\",\n        \"description\": \"\"\n      }\n    }\n  ]\n}"
            }
          },
          "metadata": {},
          "execution_count": 8
        }
      ]
    },
    {
      "cell_type": "code",
      "source": [
        "#Data cleaning\n",
        "df.isnull().sum()"
      ],
      "metadata": {
        "colab": {
          "base_uri": "https://localhost:8080/",
          "height": 460
        },
        "id": "OPCNyuEsWGgD",
        "outputId": "13794d73-f485-4ce9-cd93-8660664ebf67"
      },
      "execution_count": 9,
      "outputs": [
        {
          "output_type": "execute_result",
          "data": {
            "text/plain": [
              "day              0\n",
              "pressure         0\n",
              "maxtemp          0\n",
              "temparature      0\n",
              "mintemp          0\n",
              "dewpoint         0\n",
              "humidity         0\n",
              "cloud            0\n",
              "rainfall         0\n",
              "sunshine         0\n",
              "winddirection    1\n",
              "windspeed        1\n",
              "dtype: int64"
            ],
            "text/html": [
              "<div>\n",
              "<style scoped>\n",
              "    .dataframe tbody tr th:only-of-type {\n",
              "        vertical-align: middle;\n",
              "    }\n",
              "\n",
              "    .dataframe tbody tr th {\n",
              "        vertical-align: top;\n",
              "    }\n",
              "\n",
              "    .dataframe thead th {\n",
              "        text-align: right;\n",
              "    }\n",
              "</style>\n",
              "<table border=\"1\" class=\"dataframe\">\n",
              "  <thead>\n",
              "    <tr style=\"text-align: right;\">\n",
              "      <th></th>\n",
              "      <th>0</th>\n",
              "    </tr>\n",
              "  </thead>\n",
              "  <tbody>\n",
              "    <tr>\n",
              "      <th>day</th>\n",
              "      <td>0</td>\n",
              "    </tr>\n",
              "    <tr>\n",
              "      <th>pressure</th>\n",
              "      <td>0</td>\n",
              "    </tr>\n",
              "    <tr>\n",
              "      <th>maxtemp</th>\n",
              "      <td>0</td>\n",
              "    </tr>\n",
              "    <tr>\n",
              "      <th>temparature</th>\n",
              "      <td>0</td>\n",
              "    </tr>\n",
              "    <tr>\n",
              "      <th>mintemp</th>\n",
              "      <td>0</td>\n",
              "    </tr>\n",
              "    <tr>\n",
              "      <th>dewpoint</th>\n",
              "      <td>0</td>\n",
              "    </tr>\n",
              "    <tr>\n",
              "      <th>humidity</th>\n",
              "      <td>0</td>\n",
              "    </tr>\n",
              "    <tr>\n",
              "      <th>cloud</th>\n",
              "      <td>0</td>\n",
              "    </tr>\n",
              "    <tr>\n",
              "      <th>rainfall</th>\n",
              "      <td>0</td>\n",
              "    </tr>\n",
              "    <tr>\n",
              "      <th>sunshine</th>\n",
              "      <td>0</td>\n",
              "    </tr>\n",
              "    <tr>\n",
              "      <th>winddirection</th>\n",
              "      <td>1</td>\n",
              "    </tr>\n",
              "    <tr>\n",
              "      <th>windspeed</th>\n",
              "      <td>1</td>\n",
              "    </tr>\n",
              "  </tbody>\n",
              "</table>\n",
              "</div><br><label><b>dtype:</b> int64</label>"
            ]
          },
          "metadata": {},
          "execution_count": 9
        }
      ]
    },
    {
      "cell_type": "markdown",
      "source": [
        "We have 2 null values in 2 columns one each let's fill them with it's mean value."
      ],
      "metadata": {
        "id": "uNsrfZB_WYp5"
      }
    },
    {
      "cell_type": "code",
      "source": [
        "for col in df.columns:\n",
        "    if df[col].isnull().sum() > 0:\n",
        "        val = df[col].mean()\n",
        "        df[col] = df[col].fillna(val)\n",
        "df.isnull().sum().sum()"
      ],
      "metadata": {
        "colab": {
          "base_uri": "https://localhost:8080/"
        },
        "id": "qWcFiNimWLze",
        "outputId": "a69821ee-dd38-4b5b-8735-9973e9492c4b"
      },
      "execution_count": 10,
      "outputs": [
        {
          "output_type": "execute_result",
          "data": {
            "text/plain": [
              "0"
            ]
          },
          "metadata": {},
          "execution_count": 10
        }
      ]
    },
    {
      "cell_type": "code",
      "source": [
        "# EDA\n",
        "plt.pie(df['rainfall'].value_counts().values,\n",
        "        labels = df['rainfall'].value_counts().index,\n",
        "        autopct = '%1.1f%%')\n",
        "plt.title(\"Class Distribution\")\n",
        "plt.show()"
      ],
      "metadata": {
        "colab": {
          "base_uri": "https://localhost:8080/",
          "height": 428
        },
        "id": "8Wu7y4cOW7Uf",
        "outputId": "01ca3b52-5dc3-4754-8555-771f5b345d7c"
      },
      "execution_count": 11,
      "outputs": [
        {
          "output_type": "display_data",
          "data": {
            "text/plain": [
              "<Figure size 640x480 with 1 Axes>"
            ],
            "image/png": "[encoded data removed]"
          },
          "metadata": {}
        }
      ]
    },
    {
      "cell_type": "markdown",
      "source": [
        "We do observe that the class is imbalanced but since the data is of an entire year we should not balance it."
      ],
      "metadata": {
        "id": "FUBghe3RXvLx"
      }
    },
    {
      "cell_type": "code",
      "source": [
        "df.groupby('rainfall').mean().T"
      ],
      "metadata": {
        "colab": {
          "base_uri": "https://localhost:8080/",
          "height": 394
        },
        "id": "KpXm6OaaXn3f",
        "outputId": "ceb44124-8cc0-4f80-c1a6-05035e0d0ef2"
      },
      "execution_count": 12,
      "outputs": [
        {
          "output_type": "execute_result",
          "data": {
            "text/plain": [
              "rainfall                no          yes\n",
              "day              15.623932    15.819277\n",
              "pressure       1014.576923  1013.350602\n",
              "maxtemp          27.070940    25.777912\n",
              "temparature      24.053846    23.603213\n",
              "mintemp          21.957265    21.865060\n",
              "dewpoint         18.766667    20.563454\n",
              "humidity         73.000000    83.550201\n",
              "cloud            51.256410    80.465863\n",
              "sunshine          7.586325     2.931325\n",
              "winddirection   103.076923   100.769104\n",
              "windspeed        19.275214    22.599747"
            ],
            "text/html": [
              "\n",
              "  <div id=\"df-14e48986-f070-4279-b30a-35b79c675965\" class=\"colab-df-container\">\n",
              "    <div>\n",
              "<style scoped>\n",
              "    .dataframe tbody tr th:only-of-type {\n",
              "        vertical-align: middle;\n",
              "    }\n",
              "\n",
              "    .dataframe tbody tr th {\n",
              "        vertical-align: top;\n",
              "    }\n",
              "\n",
              "    .dataframe thead th {\n",
              "        text-align: right;\n",
              "    }\n",
              "</style>\n",
              "<table border=\"1\" class=\"dataframe\">\n",
              "  <thead>\n",
              "    <tr style=\"text-align: right;\">\n",
              "      <th>rainfall</th>\n",
              "      <th>no</th>\n",
              "      <th>yes</th>\n",
              "    </tr>\n",
              "  </thead>\n",
              "  <tbody>\n",
              "    <tr>\n",
              "      <th>day</th>\n",
              "      <td>15.623932</td>\n",
              "      <td>15.819277</td>\n",
              "    </tr>\n",
              "    <tr>\n",
              "      <th>pressure</th>\n",
              "      <td>1014.576923</td>\n",
              "      <td>1013.350602</td>\n",
              "    </tr>\n",
              "    <tr>\n",
              "      <th>maxtemp</th>\n",
              "      <td>27.070940</td>\n",
              "      <td>25.777912</td>\n",
              "    </tr>\n",
              "    <tr>\n",
              "      <th>temparature</th>\n",
              "      <td>24.053846</td>\n",
              "      <td>23.603213</td>\n",
              "    </tr>\n",
              "    <tr>\n",
              "      <th>mintemp</th>\n",
              "      <td>21.957265</td>\n",
              "      <td>21.865060</td>\n",
              "    </tr>\n",
              "    <tr>\n",
              "      <th>dewpoint</th>\n",
              "      <td>18.766667</td>\n",
              "      <td>20.563454</td>\n",
              "    </tr>\n",
              "    <tr>\n",
              "      <th>humidity</th>\n",
              "      <td>73.000000</td>\n",
              "      <td>83.550201</td>\n",
              "    </tr>\n",
              "    <tr>\n",
              "      <th>cloud</th>\n",
              "      <td>51.256410</td>\n",
              "      <td>80.465863</td>\n",
              "    </tr>\n",
              "    <tr>\n",
              "      <th>sunshine</th>\n",
              "      <td>7.586325</td>\n",
              "      <td>2.931325</td>\n",
              "    </tr>\n",
              "    <tr>\n",
              "      <th>winddirection</th>\n",
              "      <td>103.076923</td>\n",
              "      <td>100.769104</td>\n",
              "    </tr>\n",
              "    <tr>\n",
              "      <th>windspeed</th>\n",
              "      <td>19.275214</td>\n",
              "      <td>22.599747</td>\n",
              "    </tr>\n",
              "  </tbody>\n",
              "</table>\n",
              "</div>\n",
              "    <div class=\"colab-df-buttons\">\n",
              "\n",
              "  <div class=\"colab-df-container\">\n",
              "    <button class=\"colab-df-convert\" onclick=\"convertToInteractive('df-14e48986-f070-4279-b30a-35b79c675965')\"\n",
              "            title=\"Convert this dataframe to an interactive table.\"\n",
              "            style=\"display:none;\">\n",
              "\n",
              "  <svg xmlns=\"http://www.w3.org/2000/svg\" height=\"24px\" viewBox=\"0 -960 960 960\">\n",
              "    <path d=\"M120-120v-720h720v720H120Zm60-500h600v-160H180v160Zm220 220h160v-160H400v160Zm0 220h160v-160H400v160ZM180-400h160v-160H180v160Zm440 0h160v-160H620v160ZM180-180h160v-160H180v160Zm440 0h160v-160H620v160Z\"/>\n",
              "  </svg>\n",
              "    </button>\n",
              "\n",
              "  <style>\n",
              "    .colab-df-container {\n",
              "      display:flex;\n",
              "      gap: 12px;\n",
              "    }\n",
              "\n",
              "    .colab-df-convert {\n",
              "      background-color: #E8F0FE;\n",
              "      border: none;\n",
              "      border-radius: 50%;\n",
              "      cursor: pointer;\n",
              "      display: none;\n",
              "      fill: #1967D2;\n",
              "      height: 32px;\n",
              "      padding: 0 0 0 0;\n",
              "      width: 32px;\n",
              "    }\n",
              "\n",
              "    .colab-df-convert:hover {\n",
              "      background-color: #E2EBFA;\n",
              "      box-shadow: 0px 1px 2px rgba(60, 64, 67, 0.3), 0px 1px 3px 1px rgba(60, 64, 67, 0.15);\n",
              "      fill: #174EA6;\n",
              "    }\n",
              "\n",
              "    .colab-df-buttons div {\n",
              "      margin-bottom: 4px;\n",
              "    }\n",
              "\n",
              "    [theme=dark] .colab-df-convert {\n",
              "      background-color: #3B4455;\n",
              "      fill: #D2E3FC;\n",
              "    }\n",
              "\n",
              "    [theme=dark] .colab-df-convert:hover {\n",
              "      background-color: #434B5C;\n",
              "      box-shadow: 0px 1px 3px 1px rgba(0, 0, 0, 0.15);\n",
              "      filter: drop-shadow(0px 1px 2px rgba(0, 0, 0, 0.3));\n",
              "      fill: #FFFFFF;\n",
              "    }\n",
              "  </style>\n",
              "\n",
              "    <script>\n",
              "      const buttonEl =\n",
              "        document.querySelector('#df-14e48986-f070-4279-b30a-35b79c675965 button.colab-df-convert');\n",
              "      buttonEl.style.display =\n",
              "        google.colab.kernel.accessAllowed ? 'block' : 'none';\n",
              "\n",
              "      async function convertToInteractive(key) {\n",
              "        const element = document.querySelector('#df-14e48986-f070-4279-b30a-35b79c675965');\n",
              "        const dataTable =\n",
              "          await google.colab.kernel.invokeFunction('convertToInteractive',\n",
              "                                                    [key], {});\n",
              "        if (!dataTable) return;\n",
              "\n",
              "        const docLinkHtml = 'Like what you see? Visit the ' +\n",
              "          '<a target=\"_blank\" href=https://colab.research.google.com/notebooks/data_table.ipynb>data table notebook</a>'\n",
              "          + ' to learn more about interactive tables.';\n",
              "        element.innerHTML = '';\n",
              "        dataTable['output_type'] = 'display_data';\n",
              "        await google.colab.output.renderOutput(dataTable, element);\n",
              "        const docLink = document.createElement('div');\n",
              "        docLink.innerHTML = docLinkHtml;\n",
              "        element.appendChild(docLink);\n",
              "      }\n",
              "    </script>\n",
              "  </div>\n",
              "\n",
              "\n",
              "<div id=\"df-e8f721a9-022e-4492-b1ad-26b4783efb8d\">\n",
              "  <button class=\"colab-df-quickchart\" onclick=\"quickchart('df-e8f721a9-022e-4492-b1ad-26b4783efb8d')\"\n",
              "            title=\"Suggest charts\"\n",
              "            style=\"display:none;\">\n",
              "\n",
              "<svg xmlns=\"http://www.w3.org/2000/svg\" height=\"24px\"viewBox=\"0 0 24 24\"\n",
              "     width=\"24px\">\n",
              "    <g>\n",
              "        <path d=\"M19 3H5c-1.1 0-2 .9-2 2v14c0 1.1.9 2 2 2h14c1.1 0 2-.9 2-2V5c0-1.1-.9-2-2-2zM9 17H7v-7h2v7zm4 0h-2V7h2v10zm4 0h-2v-4h2v4z\"/>\n",
              "    </g>\n",
              "</svg>\n",
              "  </button>\n",
              "\n",
              "<style>\n",
              "  .colab-df-quickchart {\n",
              "      --bg-color: #E8F0FE;\n",
              "      --fill-color: #1967D2;\n",
              "      --hover-bg-color: #E2EBFA;\n",
              "      --hover-fill-color: #174EA6;\n",
              "      --disabled-fill-color: #AAA;\n",
              "      --disabled-bg-color: #DDD;\n",
              "  }\n",
              "\n",
              "  [theme=dark] .colab-df-quickchart {\n",
              "      --bg-color: #3B4455;\n",
              "      --fill-color: #D2E3FC;\n",
              "      --hover-bg-color: #434B5C;\n",
              "      --hover-fill-color: #FFFFFF;\n",
              "      --disabled-bg-color: #3B4455;\n",
              "      --disabled-fill-color: #666;\n",
              "  }\n",
              "\n",
              "  .colab-df-quickchart {\n",
              "    background-color: var(--bg-color);\n",
              "    border: none;\n",
              "    border-radius: 50%;\n",
              "    cursor: pointer;\n",
              "    display: none;\n",
              "    fill: var(--fill-color);\n",
              "    height: 32px;\n",
              "    padding: 0;\n",
              "    width: 32px;\n",
              "  }\n",
              "\n",
              "  .colab-df-quickchart:hover {\n",
              "    background-color: var(--hover-bg-color);\n",
              "    box-shadow: 0 1px 2px rgba(60, 64, 67, 0.3), 0 1px 3px 1px rgba(60, 64, 67, 0.15);\n",
              "    fill: var(--button-hover-fill-color);\n",
              "  }\n",
              "\n",
              "  .colab-df-quickchart-complete:disabled,\n",
              "  .colab-df-quickchart-complete:disabled:hover {\n",
              "    background-color: var(--disabled-bg-color);\n",
              "    fill: var(--disabled-fill-color);\n",
              "    box-shadow: none;\n",
              "  }\n",
              "\n",
              "  .colab-df-spinner {\n",
              "    border: 2px solid var(--fill-color);\n",
              "    border-color: transparent;\n",
              "    border-bottom-color: var(--fill-color);\n",
              "    animation:\n",
              "      spin 1s steps(1) infinite;\n",
              "  }\n",
              "\n",
              "  @keyframes spin {\n",
              "    0% {\n",
              "      border-color: transparent;\n",
              "      border-bottom-color: var(--fill-color);\n",
              "      border-left-color: var(--fill-color);\n",
              "    }\n",
              "    20% {\n",
              "      border-color: transparent;\n",
              "      border-left-color: var(--fill-color);\n",
              "      border-top-color: var(--fill-color);\n",
              "    }\n",
              "    30% {\n",
              "      border-color: transparent;\n",
              "      border-left-color: var(--fill-color);\n",
              "      border-top-color: var(--fill-color);\n",
              "      border-right-color: var(--fill-color);\n",
              "    }\n",
              "    40% {\n",
              "      border-color: transparent;\n",
              "      border-right-color: var(--fill-color);\n",
              "      border-top-color: var(--fill-color);\n",
              "    }\n",
              "    60% {\n",
              "      border-color: transparent;\n",
              "      border-right-color: var(--fill-color);\n",
              "    }\n",
              "    80% {\n",
              "      border-color: transparent;\n",
              "      border-right-color: var(--fill-color);\n",
              "      border-bottom-color: var(--fill-color);\n",
              "    }\n",
              "    90% {\n",
              "      border-color: transparent;\n",
              "      border-bottom-color: var(--fill-color);\n",
              "    }\n",
              "  }\n",
              "</style>\n",
              "\n",
              "  <script>\n",
              "    async function quickchart(key) {\n",
              "      const quickchartButtonEl =\n",
              "        document.querySelector('#' + key + ' button');\n",
              "      quickchartButtonEl.disabled = true;  // To prevent multiple clicks.\n",
              "      quickchartButtonEl.classList.add('colab-df-spinner');\n",
              "      try {\n",
              "        const charts = await google.colab.kernel.invokeFunction(\n",
              "            'suggestCharts', [key], {});\n",
              "      } catch (error) {\n",
              "        console.error('Error during call to suggestCharts:', error);\n",
              "      }\n",
              "      quickchartButtonEl.classList.remove('colab-df-spinner');\n",
              "      quickchartButtonEl.classList.add('colab-df-quickchart-complete');\n",
              "    }\n",
              "    (() => {\n",
              "      let quickchartButtonEl =\n",
              "        document.querySelector('#df-e8f721a9-022e-4492-b1ad-26b4783efb8d button');\n",
              "      quickchartButtonEl.style.display =\n",
              "        google.colab.kernel.accessAllowed ? 'block' : 'none';\n",
              "    })();\n",
              "  </script>\n",
              "</div>\n",
              "\n",
              "    </div>\n",
              "  </div>\n"
            ],
            "application/vnd.google.colaboratory.intrinsic+json": {
              "type": "dataframe",
              "summary": "{\n  \"name\": \"df\",\n  \"rows\": 11,\n  \"fields\": [\n    {\n      \"column\": \"no\",\n      \"properties\": {\n        \"dtype\": \"number\",\n        \"std\": 296.4085151629355,\n        \"min\": 7.586324786324787,\n        \"max\": 1014.5769230769231,\n        \"num_unique_values\": 11,\n        \"samples\": [\n          18.766666666666666,\n          15.623931623931623,\n          103.07692307692308\n        ],\n        \"semantic_type\": \"\",\n        \"description\": \"\"\n      }\n    },\n    {\n      \"column\": \"yes\",\n      \"properties\": {\n        \"dtype\": \"number\",\n        \"std\": 295.34940070321437,\n        \"min\": 2.931325301204819,\n        \"max\": 1013.3506024096386,\n        \"num_unique_values\": 11,\n        \"samples\": [\n          20.563453815261045,\n          15.819277108433734,\n          100.76910381251031\n        ],\n        \"semantic_type\": \"\",\n        \"description\": \"\"\n      }\n    }\n  ]\n}"
            }
          },
          "metadata": {},
          "execution_count": 12
        }
      ]
    },
    {
      "cell_type": "markdown",
      "source": [
        "Here we can clearly record quite few interesting obsetvations.\n",
        "- maxtemp is lower during the rainfall days.\n",
        "- dewpoin is more on the days when it rains\n",
        "- humidity is significantly more on days of rainfall, same goes for clouds, sunshine and windspeed as well.\n",
        "\n",
        "We can also say that the data observed in here is very similar to real life situation."
      ],
      "metadata": {
        "id": "zr3Wl6ODYg0_"
      }
    },
    {
      "cell_type": "code",
      "source": [
        "# We don't have any use of days column so let's remove it\n",
        "df.drop('day', axis=1, inplace=True)"
      ],
      "metadata": {
        "id": "fKmxaR9jjYid"
      },
      "execution_count": 13,
      "outputs": []
    },
    {
      "cell_type": "code",
      "source": [
        "num_cols = list(df.select_dtypes(include=np.number).columns)\n",
        "num_cols"
      ],
      "metadata": {
        "colab": {
          "base_uri": "https://localhost:8080/"
        },
        "id": "09o--TfkorYo",
        "outputId": "417b7ae2-bb53-4740-d97e-86f10b65b5d1"
      },
      "execution_count": 14,
      "outputs": [
        {
          "output_type": "execute_result",
          "data": {
            "text/plain": [
              "['pressure ',\n",
              " 'maxtemp',\n",
              " 'temparature',\n",
              " 'mintemp',\n",
              " 'dewpoint',\n",
              " 'humidity ',\n",
              " 'cloud ',\n",
              " 'sunshine',\n",
              " 'winddirection',\n",
              " 'windspeed']"
            ]
          },
          "metadata": {},
          "execution_count": 14
        }
      ]
    },
    {
      "cell_type": "code",
      "source": [
        "# Let's check the distribution of the numerical columns of the dataset\n",
        "plt.figure(figsize=(15,8))\n",
        "for i, col in enumerate(num_cols):\n",
        "    plt.subplot(3, 4, i+1)\n",
        "    sns.distplot(df[col])\n",
        "    plt.tight_layout()\n",
        "plt.show()"
      ],
      "metadata": {
        "colab": {
          "base_uri": "https://localhost:8080/",
          "height": 351
        },
        "id": "DTbhM10aYPN3",
        "outputId": "e4b7f5f8-af52-4d24-eef4-536bef961dcf"
      },
      "execution_count": 15,
      "outputs": [
        {
          "output_type": "display_data",
          "data": {
            "text/plain": [
              "<Figure size 1500x800 with 10 Axes>"
            ],
            "image/png": "[encoded data removed]"
          },
          "metadata": {}
        }
      ]
    },
    {
      "cell_type": "code",
      "source": [
        "# Checking distribution using voxplot\n",
        "plt.figure(figsize=(15,8))\n",
        "for i, col in enumerate(num_cols):\n",
        "    plt.subplot(3, 4, i+1)\n",
        "    sns.boxplot(x=df[col])\n",
        "    plt.tight_layout()\n",
        "plt.show()"
      ],
      "metadata": {
        "colab": {
          "base_uri": "https://localhost:8080/",
          "height": 351
        },
        "id": "qf2HQHOxksaI",
        "outputId": "9243cf3f-9fdf-4893-9ccb-3aaa23947aa9"
      },
      "execution_count": 16,
      "outputs": [
        {
          "output_type": "display_data",
          "data": {
            "text/plain": [
              "<Figure size 1500x800 with 10 Axes>"
            ],
            "image/png": "[encoded data removed]"
          },
          "metadata": {}
        }
      ]
    },
    {
      "cell_type": "markdown",
      "source": [
        "There are a few outliers in the dataset but we do not have much data so we will retain them."
      ],
      "metadata": {
        "id": "N9gEcvGq2m8H"
      }
    },
    {
      "cell_type": "code",
      "source": [
        "# Let's convert object type column into numerical type.\n",
        "df['rainfall']=df['rainfall'].map({'yes':1, 'no':0})"
      ],
      "metadata": {
        "id": "Eu4ziqX-kv4k"
      },
      "execution_count": 17,
      "outputs": []
    },
    {
      "cell_type": "code",
      "source": [
        "# Let's check correlation amont the columns\n",
        "sns.heatmap(df.corr()>0.8, annot=True)"
      ],
      "metadata": {
        "colab": {
          "base_uri": "https://localhost:8080/",
          "height": 532
        },
        "id": "1bJ5Sokv3NEs",
        "outputId": "d4d212cd-5736-44cd-9fa6-e700013ec0df"
      },
      "execution_count": 18,
      "outputs": [
        {
          "output_type": "execute_result",
          "data": {
            "text/plain": [
              "<Axes: >"
            ]
          },
          "metadata": {},
          "execution_count": 18
        },
        {
          "output_type": "display_data",
          "data": {
            "text/plain": [
              "<Figure size 640x480 with 2 Axes>"
            ],
            "image/png": "[encoded data removed]"
          },
          "metadata": {}
        }
      ]
    },
    {
      "cell_type": "markdown",
      "source": [
        "We can see few columns appears to be highly correlated so we'll be removing maxtemp and mintemp. We are aoiding removing temperature and dewpoint because they provide different atmospheric conditions."
      ],
      "metadata": {
        "id": "Bokc3k-_36Bz"
      }
    },
    {
      "cell_type": "code",
      "source": [
        "df.drop(['maxtemp','mintemp'], axis=1, inplace=True)"
      ],
      "metadata": {
        "id": "jcMW4H5z3Pa8"
      },
      "execution_count": 19,
      "outputs": []
    },
    {
      "cell_type": "markdown",
      "source": [
        "Model Training"
      ],
      "metadata": {
        "id": "i_7hJ-sy4qlN"
      }
    },
    {
      "cell_type": "code",
      "source": [
        "# Feature Extraction\n",
        "x = df.drop(['rainfall'], axis=1)\n",
        "y = df['rainfall']\n",
        "x.shape, y.shape"
      ],
      "metadata": {
        "colab": {
          "base_uri": "https://localhost:8080/"
        },
        "id": "okeLKJZu4mCf",
        "outputId": "a44bd46d-4381-48fb-bd71-f9b6ae203de1"
      },
      "execution_count": 20,
      "outputs": [
        {
          "output_type": "execute_result",
          "data": {
            "text/plain": [
              "((366, 8), (366,))"
            ]
          },
          "metadata": {},
          "execution_count": 20
        }
      ]
    },
    {
      "cell_type": "code",
      "source": [
        "# Splitting the data set for training and testing\n",
        "x_train, x_test, y_train, y_test = train_test_split(x, y, test_size=0.2, stratify=y, random_state=42)\n",
        "\n",
        "#For imbalanced data we'll be using Random Oversampling method to fix it\n",
        "ros = RandomOverSampler(sampling_strategy='minority', random_state=43)\n",
        "X, Y = ros.fit_resample(x_train, y_train)"
      ],
      "metadata": {
        "id": "Nhd-FJeu48F3"
      },
      "execution_count": 22,
      "outputs": []
    },
    {
      "cell_type": "code",
      "source": [
        "# Normalizing the features\n",
        "scaler = StandardScaler()\n",
        "X = scaler.fit_transform(X)\n",
        "x_test = scaler.fit_transform(x_test)"
      ],
      "metadata": {
        "id": "QIj7OHXb7m0r"
      },
      "execution_count": 24,
      "outputs": []
    },
    {
      "cell_type": "code",
      "source": [
        "models = [LogisticRegression(), XGBClassifier(), SVC(kernel='rbf', probability=True)]\n",
        "\n",
        "for model in models:\n",
        "    model.fit(X, Y)\n",
        "    print(model.__class__.__name__)\n",
        "\n",
        "    print(\"Training Accuracy: \",metrics.roc_auc_score(Y, model.predict(X)))\n",
        "    print(\"Testing Accuracy: \",metrics.roc_auc_score(y_test, model.predict(x_test)))\n",
        "    print()"
      ],
      "metadata": {
        "colab": {
          "base_uri": "https://localhost:8080/"
        },
        "id": "17EFBI148TFo",
        "outputId": "059c37bb-dc7c-4552-a7bc-3a0cbb95a941"
      },
      "execution_count": 32,
      "outputs": [
        {
          "output_type": "stream",
          "name": "stdout",
          "text": [
            "LogisticRegression\n",
            "Training Accuracy:  0.7613065326633166\n",
            "Testing Accuracy:  0.8491666666666666\n",
            "\n",
            "XGBClassifier\n",
            "Training Accuracy:  1.0\n",
            "Testing Accuracy:  0.7858333333333334\n",
            "\n",
            "SVC\n",
            "Training Accuracy:  0.7864321608040201\n",
            "Testing Accuracy:  0.8583333333333333\n",
            "\n"
          ]
        }
      ]
    },
    {
      "cell_type": "code",
      "source": [],
      "metadata": {
        "colab": {
          "base_uri": "https://localhost:8080/"
        },
        "id": "YudOe3-j9fGj",
        "outputId": "28bd49ca-db56-4360-a945-29069ec6b877"
      },
      "execution_count": 34,
      "outputs": [
        {
          "output_type": "stream",
          "name": "stdout",
          "text": [
            "LogisticRegression() : \n",
            "Training Accuracy :  0.869574000656549\n",
            "Validation Accuracy :  0.9225\n",
            "\n",
            "XGBClassifier(base_score=None, booster=None, callbacks=None,\n",
            "              colsample_bylevel=None, colsample_bynode=None,\n",
            "              colsample_bytree=None, device=None, early_stopping_rounds=None,\n",
            "              enable_categorical=False, eval_metric=None, feature_types=None,\n",
            "              gamma=None, grow_policy=None, importance_type=None,\n",
            "              interaction_constraints=None, learning_rate=None, max_bin=None,\n",
            "              max_cat_threshold=None, max_cat_to_onehot=None,\n",
            "              max_delta_step=None, max_depth=None, max_leaves=None,\n",
            "              min_child_weight=None, missing=nan, monotone_constraints=None,\n",
            "              multi_strategy=None, n_estimators=None, n_jobs=None,\n",
            "              num_parallel_tree=None, random_state=None, ...) : \n",
            "Training Accuracy :  1.0\n",
            "Validation Accuracy :  0.8675\n",
            "\n",
            "SVC(probability=True) : \n",
            "Training Accuracy :  0.892174440039393\n",
            "Validation Accuracy :  0.9075\n",
            "\n"
          ]
        }
      ]
    },
    {
      "cell_type": "code",
      "source": [],
      "metadata": {
        "id": "7fRvXX3T-H_j"
      },
      "execution_count": null,
      "outputs": []
    }
  ]
}